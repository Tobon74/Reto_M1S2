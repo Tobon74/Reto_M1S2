{
  "nbformat": 4,
  "nbformat_minor": 0,
  "metadata": {
    "colab": {
      "provenance": [],
      "include_colab_link": true
    },
    "kernelspec": {
      "name": "python3",
      "display_name": "Python 3"
    },
    "language_info": {
      "name": "python"
    }
  },
  "cells": [
    {
      "cell_type": "markdown",
      "metadata": {
        "id": "view-in-github",
        "colab_type": "text"
      },
      "source": [
        "<a href=\"https://colab.research.google.com/github/Tobon74/Reto_M1S2/blob/main/Copia_de_Reto_M1S2.ipynb\" target=\"_parent\"><img src=\"https://colab.research.google.com/assets/colab-badge.svg\" alt=\"Open In Colab\"/></a>"
      ]
    },
    {
      "cell_type": "markdown",
      "source": [
        "# Retos MIS2 Fundamentos Ciencia de Datos.\n",
        "\n",
        "## Reto Número 1.\n",
        "\n",
        "Hola te doy la bienvenida a tu reto, recuerda que:\n",
        "\n",
        "1.\tDebes realizar una copia de este Colab en tu Drive personal.\n",
        "2.\tResuelve el reto en la copia que realizaste.\n",
        "3.\tEnvía la liga pública de tu reto resuelto a través del canal general.\n",
        "\n",
        "Para este reto, por favor, realiza una función donde generes el siguiente número de la sucesión [Fibonacci](https://www.eade.es/blog/186-la-sucesion-de-fibonacci-en-el-diseno#:~:text=Se%20trata%20de%20una%20secuencia,%2C%2021%2C%2034%2C%2055%E2%80%A6) a partir del 0 y el 1, se van sumando a pares, de manera que cada número es igual a la suma de sus dos anteriores, de manera que:\n",
        "\n",
        "0, 1, 1, 2, 3, 5, 8, 13, 21, 34, 55…\n",
        "\n",
        "Integra en la función Fibonacci un ciclo **for**, donde genere los primeros números de la secuencia fibo. Recuerda poner un **print**\n",
        "\n",
        "Tip: Sera necesario usar un **if** y **else** para cumplir tal propósito."
      ],
      "metadata": {
        "id": "SibvTVgctQrQ"
      }
    },
    {
      "cell_type": "code",
      "source": [
        "from google.colab import drive\n",
        "drive.mount('/content/drive')"
      ],
      "metadata": {
        "id": "6aLrMVyj_l_o",
        "colab": {
          "base_uri": "https://localhost:8080/"
        },
        "outputId": "6863c9e8-c7ee-4ae0-f741-ff84a307d16f"
      },
      "execution_count": 1,
      "outputs": [
        {
          "output_type": "stream",
          "name": "stdout",
          "text": [
            "Mounted at /content/drive\n"
          ]
        }
      ]
    },
    {
      "cell_type": "code",
      "source": [
        "# Responder en los espacios ___\n",
        "#1 ) Genera un range de 1 a N, recuerda que el último es excluyente por lo que deberas aumentarle un +1.\n",
        "#2 ) Generar un condición donde el primer ciclo solo se sume un +1.\n",
        "#3 ) Sumar las últimos dos elementos de la lista para que así se cumpla la secuencia Fibonacci.\n",
        "#4 ) Si queremos acceder al último elemento de una lista[-1], si queremos acceder al penúltimo elemento de una lista[-2] y así sucesivamente...\n",
        "\n",
        "def fibonacci(a):\n",
        "  respuesta = 0\n",
        "  lista = [0]\n",
        "  for i in range(1, a + 1):   # #1: Generamos un range de 1 a N+1 para incluir a\n",
        "    if i == 1:  # #2: Solo en el primer ciclo se suma 1\n",
        "      respuesta = lista[-1] + 1\n",
        "    else:\n",
        "      respuesta = lista[-1] + lista[-2] # #3 y #4: Suma de los dos últimos elementos\n",
        "\n",
        "    lista.append(respuesta)\n",
        "    print(respuesta)\n",
        "\n",
        "  return respuesta\n"
      ],
      "metadata": {
        "id": "ayvxoVtQtLZx"
      },
      "execution_count": 2,
      "outputs": []
    },
    {
      "cell_type": "code",
      "source": [
        "# Correr la función con el número 9.\n",
        "fibonacci(9)"
      ],
      "metadata": {
        "id": "ijkXSzcpvo-y",
        "colab": {
          "base_uri": "https://localhost:8080/"
        },
        "outputId": "5dcd272c-78f1-4090-894b-47b017948e99"
      },
      "execution_count": 3,
      "outputs": [
        {
          "output_type": "stream",
          "name": "stdout",
          "text": [
            "1\n",
            "1\n",
            "2\n",
            "3\n",
            "5\n",
            "8\n",
            "13\n",
            "21\n",
            "34\n"
          ]
        },
        {
          "output_type": "execute_result",
          "data": {
            "text/plain": [
              "34"
            ]
          },
          "metadata": {},
          "execution_count": 3
        }
      ]
    },
    {
      "cell_type": "markdown",
      "source": [
        "## Reto Número 2.\n",
        "Integra en la función Fibonacci un **while** en vez del **for** y que termine hasta que la respuesta final de la secuencia Fibonacci sea mayor de 150."
      ],
      "metadata": {
        "id": "Kpyy8mb-1jw0"
      }
    },
    {
      "cell_type": "code",
      "source": [
        "# Responder en los espacios ___\n",
        "# 1) Genera un fibonacci donde la variable \"a\" sea menor que el resultado final del fibo y termine hasta ahí.\n",
        "\n",
        "def fibonacci(a):\n",
        "  respuesta = 0\n",
        "  lista = [0]\n",
        "  while respuesta <= 150: # 1) El ciclo continúa mientras la respuesta sea menor o igual a 150\n",
        "    if respuesta == 0:\n",
        "      respuesta = lista[-1] + 1\n",
        "    else:\n",
        "      respuesta = lista[-1] + lista[-2]\n",
        "\n",
        "    lista.append(respuesta)\n",
        "    print(respuesta)\n",
        "\n",
        "  return respuesta"
      ],
      "metadata": {
        "id": "o63QlE2z1_Vm"
      },
      "execution_count": 4,
      "outputs": []
    },
    {
      "cell_type": "code",
      "source": [
        "fibonacci(150)"
      ],
      "metadata": {
        "id": "YgEHw-bz2uEP",
        "colab": {
          "base_uri": "https://localhost:8080/"
        },
        "outputId": "980647cb-ec75-48d8-fa80-699c3ffb49a6"
      },
      "execution_count": 5,
      "outputs": [
        {
          "output_type": "stream",
          "name": "stdout",
          "text": [
            "1\n",
            "1\n",
            "2\n",
            "3\n",
            "5\n",
            "8\n",
            "13\n",
            "21\n",
            "34\n",
            "55\n",
            "89\n",
            "144\n",
            "233\n"
          ]
        },
        {
          "output_type": "execute_result",
          "data": {
            "text/plain": [
              "233"
            ]
          },
          "metadata": {},
          "execution_count": 5
        }
      ]
    },
    {
      "cell_type": "markdown",
      "source": [
        "### 1. Reto Alto Nivel (Opcional)\n",
        "Para cada cuadro del tablero de ajedrez, cuántos granos de trigo se usan cuando se duplica: 1 grano para el primer cuadro, 2 granos para el segundo cuadro, 4 granos para el tercer cuadro, etc. Realiza el calculo correspondiente."
      ],
      "metadata": {
        "id": "CtKGyxOWX9rB"
      }
    },
    {
      "cell_type": "code",
      "source": [
        "# Inicializamos variables\n",
        "cuadros = 64\n",
        "granos_totales = 0\n",
        "\n",
        "print(\"Cuadro\\tGranos\")\n",
        "for i in range(cuadros):\n",
        "    granos = 2 ** i  # 2 elevado a la posición del cuadro (empezando desde 0)\n",
        "    granos_totales += granos\n",
        "    print(f\"{i + 1}\\t{granos}\")"
      ],
      "metadata": {
        "colab": {
          "base_uri": "https://localhost:8080/"
        },
        "id": "q0oATTmBDs32",
        "outputId": "46bac815-ea39-4e82-bc4e-c5885cd6a0b9"
      },
      "execution_count": 6,
      "outputs": [
        {
          "output_type": "stream",
          "name": "stdout",
          "text": [
            "Cuadro\tGranos\n",
            "1\t1\n",
            "2\t2\n",
            "3\t4\n",
            "4\t8\n",
            "5\t16\n",
            "6\t32\n",
            "7\t64\n",
            "8\t128\n",
            "9\t256\n",
            "10\t512\n",
            "11\t1024\n",
            "12\t2048\n",
            "13\t4096\n",
            "14\t8192\n",
            "15\t16384\n",
            "16\t32768\n",
            "17\t65536\n",
            "18\t131072\n",
            "19\t262144\n",
            "20\t524288\n",
            "21\t1048576\n",
            "22\t2097152\n",
            "23\t4194304\n",
            "24\t8388608\n",
            "25\t16777216\n",
            "26\t33554432\n",
            "27\t67108864\n",
            "28\t134217728\n",
            "29\t268435456\n",
            "30\t536870912\n",
            "31\t1073741824\n",
            "32\t2147483648\n",
            "33\t4294967296\n",
            "34\t8589934592\n",
            "35\t17179869184\n",
            "36\t34359738368\n",
            "37\t68719476736\n",
            "38\t137438953472\n",
            "39\t274877906944\n",
            "40\t549755813888\n",
            "41\t1099511627776\n",
            "42\t2199023255552\n",
            "43\t4398046511104\n",
            "44\t8796093022208\n",
            "45\t17592186044416\n",
            "46\t35184372088832\n",
            "47\t70368744177664\n",
            "48\t140737488355328\n",
            "49\t281474976710656\n",
            "50\t562949953421312\n",
            "51\t1125899906842624\n",
            "52\t2251799813685248\n",
            "53\t4503599627370496\n",
            "54\t9007199254740992\n",
            "55\t18014398509481984\n",
            "56\t36028797018963968\n",
            "57\t72057594037927936\n",
            "58\t144115188075855872\n",
            "59\t288230376151711744\n",
            "60\t576460752303423488\n",
            "61\t1152921504606846976\n",
            "62\t2305843009213693952\n",
            "63\t4611686018427387904\n",
            "64\t9223372036854775808\n"
          ]
        }
      ]
    },
    {
      "cell_type": "code",
      "source": [
        "print(\"\\nTotal de granos en el tablero:\", granos_totales)"
      ],
      "metadata": {
        "colab": {
          "base_uri": "https://localhost:8080/"
        },
        "id": "CG_kzOb8D3wG",
        "outputId": "0fb46d12-3eea-451c-a248-143cb911d9ec"
      },
      "execution_count": 7,
      "outputs": [
        {
          "output_type": "stream",
          "name": "stdout",
          "text": [
            "\n",
            "Total de granos en el tablero: 18446744073709551615\n"
          ]
        }
      ]
    },
    {
      "cell_type": "markdown",
      "source": [
        "### 2. Reto Alto Nivel (Opcional)\n",
        "Crear una función que dado un año, diga si es bisiesto.\n",
        "\n",
        "Podemos consultar la Wikipedia para saber qué años son bisiestos.\n",
        "https://es.wikipedia.org/wiki/A%C3%B1o_bisiesto\n",
        "\n",
        "Como puedes ver, existe una regla general  de que los años deben ser bisiestos (son múltiplos de 4), pero hay excepciones a esta regla general (los años terminan en 00, por lo que al final del año en este caso, el año no es un año bisiesto, pero con la última excepción de la excepción anterior (donde el año es un múltiplo de 400), el año es un año bisiesto\n",
        "Por ejemplo, los años 2100, 2200 y 2300 no son años bisiestos, pero  2400 es un año bisiesto.\n",
        "\n",
        "\n",
        "\n",
        "\n",
        "\n",
        "\n",
        "\n",
        "\n"
      ],
      "metadata": {
        "id": "3doFKVDLYDaT"
      }
    },
    {
      "cell_type": "markdown",
      "source": [
        "Eso es todo por ahora, no olvides socializar tus respuestas en el *canal general * y consultar a tu coach cualquier duda que tengas.\n",
        "¡Que tengas mucho éxito!\n"
      ],
      "metadata": {
        "id": "g_mQI0xi7Brg"
      }
    }
  ]
}